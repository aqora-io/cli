{
 "cells": [
  {
   "cell_type": "markdown",
   "metadata": {},
   "source": [
    "# Getting an API Key\n",
    "\n",
    "To run your algorithms in the cloud, you have to create an API key and load it into your Credentials\n",
    "\n",
    "Start by visiting https://q3as.aqora.io and signing in with your GitHub or Google account. Click on your profile in the top right and go to API Keys. Tap Add API Key and enter a description for your API key. Tap Copy id and secret and paste them into the [`env`](../.env) file. "
   ]
  },
  {
   "cell_type": "code",
   "execution_count": null,
   "metadata": {},
   "outputs": [],
   "source": [
    "from q3as import Client, Credentials\n",
    "from dotenv import load_dotenv\n",
    "import os\n",
    "\n",
    "load_dotenv()\n",
    "\n",
    "id = os.getenv(\"Q3AS_ID\")\n",
    "secret = os.getenv(\"Q3AS_SECRET\")\n",
    "\n",
    "client = Client(Credentials(id=id, secret=secret))"
   ]
  },
  {
   "cell_type": "markdown",
   "metadata": {},
   "source": [
    "From here we can start building out the definition of the problem that we would like to solve. We'll start with an NP Hard problem called Maximum Weighted Cut. We can define a graph we would like to cut by supplying a list of edges and their weights."
   ]
  },
  {
   "cell_type": "code",
   "execution_count": null,
   "metadata": {},
   "outputs": [],
   "source": [
    "graph = [\n",
    "    (0, 1, 1.0),\n",
    "    (0, 2, 1.0),\n",
    "    (0, 4, 1.0),\n",
    "    (1, 2, 1.0),\n",
    "    (2, 3, 1.0),\n",
    "    (3, 4, 1.0),\n",
    "]"
   ]
  },
  {
   "cell_type": "markdown",
   "metadata": {},
   "source": [
    "We can then give this graph to our \"Application\" which will define what we want to do with it and how to translate it into the quantum world and back. Q3AS defines multiple such problem domains that you can use"
   ]
  },
  {
   "cell_type": "code",
   "execution_count": null,
   "metadata": {},
   "outputs": [],
   "source": [
    "from q3as.app import Maxcut\n",
    "\n",
    "app = Maxcut(graph)"
   ]
  },
  {
   "cell_type": "markdown",
   "metadata": {},
   "source": [
    "We now need to define a solver for our problem. We will use a Variational Quantum Eigensolver or VQE for short"
   ]
  },
  {
   "cell_type": "code",
   "execution_count": null,
   "metadata": {},
   "outputs": [],
   "source": [
    "from q3as import VQE\n",
    "\n",
    "vqe = VQE.builder().app(app)"
   ]
  },
  {
   "cell_type": "markdown",
   "metadata": {},
   "source": [
    "Now we can send the job to the Q3AS, and let the server handle the computation and the visualization of the intermediate results"
   ]
  },
  {
   "cell_type": "code",
   "execution_count": null,
   "metadata": {},
   "outputs": [],
   "source": [
    "job = vqe.send(client)\n",
    "# get the name of the job\n",
    "print(job.name)\n",
    "# wait for and retrieve the results of the job\n",
    "print(job.result())\n",
    "# get the problem cost\n",
    "print(job.result().cost)\n",
    "# see job in the dashbaord\n",
    "print(\"https://q3as.aqora.io/jobs/\" + job.name)"
   ]
  }
 ],
 "metadata": {
  "language_info": {
   "name": "python"
  }
 },
 "nbformat": 4,
 "nbformat_minor": 2
}
